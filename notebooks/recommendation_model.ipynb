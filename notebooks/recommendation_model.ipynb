{
 "cells": [
  {
   "cell_type": "code",
   "execution_count": null,
   "metadata": {},
   "outputs": [],
   "source": [
    "from sklearn.feature_extraction.text import CountVectorizer\n",
    "from sklearn.metrics.pairwise import cosine_similarity\n",
    "import pandas as pd\n",
    "\n",
    "# Load cleaned data\n",
    "df = pd.read_csv('data/processed/cleaned_job_data.csv')\n",
    "\n",
    "# Simple recommendation example\n",
    "vectorizer = CountVectorizer()\n",
    "X = vectorizer.fit_transform(df['Job Title'])\n",
    "similarity_matrix = cosine_similarity(X)\n",
    "\n",
    "# Function to get recommendations\n",
    "def recommend_jobs(job_title, df, similarity_matrix):\n",
    "    idx = df.index[df['Job Title'] == job_title].tolist()[0]\n",
    "    sim_scores = list(enumerate(similarity_matrix[idx]))\n",
    "    sim_scores = sorted(sim_scores, key=lambda x: x[1], reverse=True)\n",
    "    sim_scores = sim_scores[1:6]  # Get top 5 similar jobs\n",
    "    job_indices = [i[0] for i in sim_scores]\n",
    "    return df.iloc[job_indices]\n",
    "\n",
    "# Example recommendation\n",
    "recommendations = recommend_jobs('Software Engineer', df, similarity_matrix)\n",
    "recommendations\n"
   ]
  }
 ],
 "metadata": {
  "language_info": {
   "name": "python"
  }
 },
 "nbformat": 4,
 "nbformat_minor": 2
}
