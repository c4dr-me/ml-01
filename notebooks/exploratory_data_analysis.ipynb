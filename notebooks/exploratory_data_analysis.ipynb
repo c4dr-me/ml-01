{
 "cells": [
  {
   "cell_type": "code",
   "execution_count": null,
   "metadata": {},
   "outputs": [],
   "source": [
    "import pandas as pd\n",
    "import matplotlib.pyplot as plt\n",
    "\n",
    "# Load cleaned data\n",
    "df = pd.read_csv('data/processed/cleaned_job_data.csv')\n",
    "\n",
    "# EDA\n",
    "print(df.describe())\n",
    "df['Job Title'].value_counts().plot(kind='bar')\n",
    "plt.title('Job Titles Distribution')\n",
    "plt.show()\n"
   ]
  }
 ],
 "metadata": {
  "language_info": {
   "name": "python"
  }
 },
 "nbformat": 4,
 "nbformat_minor": 2
}
