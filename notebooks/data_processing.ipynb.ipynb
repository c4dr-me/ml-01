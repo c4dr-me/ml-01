{
 "cells": [
  {
   "cell_type": "code",
   "execution_count": null,
   "metadata": {},
   "outputs": [],
   "source": [
    "import pandas as pd\n",
    "\n",
    "# Load raw data\n",
    "df = pd.read_csv('data/raw/job_data.csv')\n",
    "\n",
    "# Clean the data\n",
    "df_cleaned = df.dropna()  # Example cleaning step\n",
    "df_cleaned.to_csv('data/processed/cleaned_job_data.csv', index=False)\n",
    "\n",
    "# Display cleaned data\n",
    "df_cleaned.head()\n"
   ]
  }
 ],
 "metadata": {
  "language_info": {
   "name": "python"
  }
 },
 "nbformat": 4,
 "nbformat_minor": 2
}
