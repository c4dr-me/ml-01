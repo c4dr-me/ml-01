{
 "cells": [
  {
   "cell_type": "code",
   "execution_count": null,
   "metadata": {},
   "outputs": [],
   "source": [
    "# Example code for LinkedIn Data Collection\n",
    "import requests\n",
    "from bs4 import BeautifulSoup\n",
    "\n",
    "def scrape_linkedin_jobs(url):\n",
    "    response = requests.get(url)\n",
    "    soup = BeautifulSoup(response.text, 'html.parser')\n",
    "    job_titles = soup.find_all('h3', class_='base-search-card__title')\n",
    "    companies = soup.find_all('h4', class_='base-search-card__subtitle')\n",
    "    jobs = [{'Job Title': title.get_text(strip=True), 'Company': company.get_text(strip=True)} \n",
    "            for title, company in zip(job_titles, companies)]\n",
    "    return jobs\n",
    "\n",
    "url = 'https://www.linkedin.com/jobs/search/?keywords=software%20developer'\n",
    "linkedin_jobs = scrape_linkedin_jobs(url)\n",
    "linkedin_jobs\n"
   ]
  }
 ],
 "metadata": {
  "language_info": {
   "name": "python"
  }
 },
 "nbformat": 4,
 "nbformat_minor": 2
}
